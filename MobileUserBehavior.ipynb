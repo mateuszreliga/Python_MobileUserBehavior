{
 "cells": [
  {
   "cell_type": "markdown",
   "metadata": {},
   "source": [
    "## Python for Data Analysis: Mobile User Behavior\n",
    "\n",
    "This project is a part of a daily Python exercise series designed to build data analysis skills. The dataset used in this project focuses on mobile device usage patterns and user behavior classification. It contains 700 samples of user data, including metrics like app usage time, screen-on time, battery consumption, and mobile data usage.\n",
    "\n",
    "<div style=\"text-align: center;\">\n",
    "  <img src=\"Mobile_User_Behavior.jpeg\" alt=\"AI generated\" width=\"300\"/>\n",
    "</div>\n"
   ]
  },
  {
   "cell_type": "markdown",
   "metadata": {},
   "source": [
    "### Day 1 Loading and Reviewing Data\n",
    "\n",
    "**Goal:** Understand the structure of the dataset and get familiar with basic DataFrame operation"
   ]
  },
  {
   "cell_type": "code",
   "execution_count": null,
   "metadata": {
    "vscode": {
     "languageId": "plaintext"
    }
   },
   "outputs": [],
   "source": []
  }
 ],
 "metadata": {
  "language_info": {
   "name": "python"
  }
 },
 "nbformat": 4,
 "nbformat_minor": 2
}
